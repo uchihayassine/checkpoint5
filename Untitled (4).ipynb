{
 "cells": [
  {
   "cell_type": "code",
   "execution_count": 3,
   "id": "85451cac",
   "metadata": {},
   "outputs": [
    {
     "name": "stdout",
     "output_type": "stream",
     "text": [
      "Original array: array('i', [1, 3, 5, 3, 7, 1, 9, 3])\n",
      " list with the same items:\n",
      "[1, 3, 5, 3, 7, 1, 9, 3]\n"
     ]
    }
   ],
   "source": [
    "#EX1\n",
    "#1ère méthode:\n",
    "from array import *\n",
    "array_num = array('i', [1, 3, 5, 3, 7, 1, 9, 3])\n",
    "print(\"Original array: \"+str(array_num))\n",
    "num_list = array_num.tolist()\n",
    "print(\" list with the same items:\")\n",
    "print(num_list)"
   ]
  },
  {
   "cell_type": "code",
   "execution_count": 5,
   "id": "18eafbf5",
   "metadata": {},
   "outputs": [
    {
     "name": "stdout",
     "output_type": "stream",
     "text": [
      "[1, 2, 3, 4, 5]\n"
     ]
    }
   ],
   "source": [
    "#EX1\n",
    "#2ème méthode:\n",
    "a=([1,2,3,4,5])\n",
    "print(list(a))"
   ]
  },
  {
   "cell_type": "code",
   "execution_count": 8,
   "id": "13c9ffff",
   "metadata": {
    "scrolled": true
   },
   "outputs": [
    {
     "name": "stdout",
     "output_type": "stream",
     "text": [
      "Original matrix:\n",
      "[[0 1 2]\n",
      " [3 4 5]]\n",
      "Condition number of the said matrix:\n",
      "4\n"
     ]
    }
   ],
   "source": [
    "#EX2\n",
    "import numpy as np\n",
    "m = np.arange(6).reshape(2,3)\n",
    "print(\"Original matrix:\")\n",
    "print(m)\n",
    "result =  np.trace(m)\n",
    "print(\"Condition number of the said matrix:\")\n",
    "print(result)"
   ]
  },
  {
   "cell_type": "code",
   "execution_count": 10,
   "id": "2da21b2c",
   "metadata": {},
   "outputs": [
    {
     "name": "stdout",
     "output_type": "stream",
     "text": [
      "Original array: \n",
      "[[ 0 10 20]\n",
      " [20 30 40]]\n",
      "Values bigger than 10 = [20 20 30 40]\n"
     ]
    }
   ],
   "source": [
    "#EX3\n",
    "import numpy as np\n",
    "x = np.array([[0, 10, 20], [20, 30, 40]])\n",
    "print(\"Original array: \")\n",
    "print(x)\n",
    "print(\"Values bigger than 10 =\", x[x>10])"
   ]
  },
  {
   "cell_type": "code",
   "execution_count": 28,
   "id": "f209f811",
   "metadata": {},
   "outputs": [
    {
     "name": "stdout",
     "output_type": "stream",
     "text": [
      "[[ 6.  8.]\n",
      " [10. 12.]]\n"
     ]
    }
   ],
   "source": [
    "#EX4\n",
    "import numpy as np\n",
    "a=np.array([[1,2],[3,4]], dtype=np.float64)\n",
    "b=np.array([[5,6],[7,8]], dtype=np.float64)\n",
    "c=a+b\n",
    "print(c)"
   ]
  },
  {
   "cell_type": "code",
   "execution_count": 29,
   "id": "81b71708",
   "metadata": {},
   "outputs": [
    {
     "name": "stdout",
     "output_type": "stream",
     "text": [
      "Original matrix:\n",
      "\n",
      "[[0.8176973  0.48005533 0.95641227 0.31845567 0.4490615  0.34020421\n",
      "  0.1066166  0.62603173 0.81973663 0.28901995]\n",
      " [0.26829287 0.12737918 0.31871291 0.3073343  0.83288513 0.43492849\n",
      "  0.97276739 0.47431517 0.37129562 0.69929642]\n",
      " [0.86307578 0.95692449 0.57439464 0.05463601 0.59288872 0.82504565\n",
      "  0.95983224 0.34111123 0.66155256 0.40190596]\n",
      " [0.82128247 0.39223315 0.0514123  0.52178833 0.02203353 0.93947354\n",
      "  0.56615429 0.64628282 0.3033446  0.49714402]\n",
      " [0.00501826 0.75857641 0.40914381 0.29236194 0.96674902 0.20372684\n",
      "  0.03325788 0.1407996  0.36600233 0.21036976]]\n",
      "\n",
      "Subtract the mean of each row of the said matrix:\n",
      "\n",
      "[[ 0.29736818 -0.04027379  0.43608315 -0.20187345 -0.07126762 -0.18012491\n",
      "  -0.41371252  0.10570261  0.29940751 -0.23130917]\n",
      " [-0.21242788 -0.35334157 -0.16200784 -0.17338645  0.35216439 -0.04579226\n",
      "   0.49204664 -0.00640558 -0.10942513  0.21857567]\n",
      " [ 0.23993905  0.33378776 -0.04874209 -0.56850072 -0.03024801  0.20190892\n",
      "   0.33669552 -0.2820255   0.03841584 -0.22123077]\n",
      " [ 0.34516757 -0.08388175 -0.4247026   0.04567343 -0.45408138  0.46335863\n",
      "   0.09003939  0.17016791 -0.17277031  0.02102911]\n",
      " [-0.33358232  0.41997582  0.07054322 -0.04623864  0.62814843 -0.13487374\n",
      "  -0.3053427  -0.19780099  0.02740174 -0.12823082]]\n"
     ]
    }
   ],
   "source": [
    "#EX5\n",
    "import numpy as np\n",
    "print(\"Original matrix:\\n\")\n",
    "X = np.random.rand(5, 10)\n",
    "print(X)\n",
    "print(\"\\nSubtract the mean of each row of the said matrix:\\n\")\n",
    "Y = X - X.mean(axis=1, keepdims=True)\n",
    "print(Y)"
   ]
  },
  {
   "cell_type": "code",
   "execution_count": null,
   "id": "3f29bbc1",
   "metadata": {},
   "outputs": [],
   "source": []
  }
 ],
 "metadata": {
  "kernelspec": {
   "display_name": "Python 3",
   "language": "python",
   "name": "python3"
  },
  "language_info": {
   "codemirror_mode": {
    "name": "ipython",
    "version": 3
   },
   "file_extension": ".py",
   "mimetype": "text/x-python",
   "name": "python",
   "nbconvert_exporter": "python",
   "pygments_lexer": "ipython3",
   "version": "3.8.8"
  }
 },
 "nbformat": 4,
 "nbformat_minor": 5
}
